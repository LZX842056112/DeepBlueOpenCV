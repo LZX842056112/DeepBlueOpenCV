{
 "cells": [
  {
   "cell_type": "markdown",
   "metadata": {},
   "source": [
    "# 图像的算术运算\n",
    "- 图像基本操作\n",
    "- 图像运算"
   ]
  },
  {
   "cell_type": "code",
   "metadata": {
    "ExecuteTime": {
     "end_time": "2025-10-12T06:00:46.318429Z",
     "start_time": "2025-10-12T06:00:45.918766Z"
    }
   },
   "source": [
    "import numpy as np\n",
    "import cv2 as cv\n",
    "import matplotlib.pyplot as plt"
   ],
   "outputs": [],
   "execution_count": 2
  },
  {
   "cell_type": "markdown",
   "metadata": {},
   "source": [
    "## 图像基本操作"
   ]
  },
  {
   "cell_type": "code",
   "metadata": {
    "ExecuteTime": {
     "end_time": "2025-10-12T03:46:10.179889Z",
     "start_time": "2025-10-12T03:46:10.168571Z"
    }
   },
   "source": [
    "# 读取图像数据\n",
    "img = cv.imread(\"./images/xiaoren.png\")\n",
    "print(img.shape)  # [H, W, C]"
   ],
   "outputs": [
    {
     "name": "stdout",
     "output_type": "stream",
     "text": [
      "(600, 510, 3)\n"
     ]
    }
   ],
   "execution_count": 19
  },
  {
   "cell_type": "code",
   "metadata": {
    "ExecuteTime": {
     "end_time": "2025-10-12T03:46:12.950098Z",
     "start_time": "2025-10-12T03:46:11.024918Z"
    }
   },
   "source": [
    "# 图像可视化\n",
    "cv.imshow('image', img)\n",
    "\n",
    "# 让图像暂停 delay 毫秒，当 delay 设置为 0 的时候，表示永远，当键盘任意输入的时候，结束暂停\n",
    "cv.waitKey(0)\n",
    "# 释放所有资源\n",
    "cv.destroyAllWindows()"
   ],
   "outputs": [],
   "execution_count": 20
  },
  {
   "cell_type": "code",
   "metadata": {
    "ExecuteTime": {
     "end_time": "2025-10-12T03:46:16.201901Z",
     "start_time": "2025-10-12T03:46:14.842969Z"
    }
   },
   "source": [
    "# 裁剪图像（从左上角开始）\n",
    "img2 = img[:100, :300]\n",
    "\n",
    "# 可视化\n",
    "cv.imshow('image', img2)\n",
    "cv.waitKey(0)\n",
    "cv.destroyAllWindows()"
   ],
   "outputs": [],
   "execution_count": 21
  },
  {
   "metadata": {},
   "cell_type": "markdown",
   "source": [
    "#### 获取并修改图像中的像素点\n",
    "- 我们可以通过行和列的坐标值获取该像素点的像素值。\n",
    "- 对于BGR图像，它返回一个蓝，绿，红值的数组。\n",
    "- 对于灰度图像，仅返回相应的强度值。使用相同的方法对像素值进行修改。\n",
    "- NOTE: 如果需要可视化图像，需要注意：OpenCV 中是 BGR 图像，而 Matplotlib 中是 RGB 的图像。\n",
    "- 读取图像并交换红蓝通道"
   ]
  },
  {
   "metadata": {
    "ExecuteTime": {
     "end_time": "2025-10-12T06:00:50.784798Z",
     "start_time": "2025-10-12T06:00:50.672692Z"
    }
   },
   "cell_type": "code",
   "source": [
    "img = np.zeros((256, 256, 3), np.uint8)\n",
    "plt.imshow(img[:, :, ::-1])"
   ],
   "outputs": [
    {
     "data": {
      "text/plain": [
       "<matplotlib.image.AxesImage at 0x181aa862310>"
      ]
     },
     "execution_count": 4,
     "metadata": {},
     "output_type": "execute_result"
    },
    {
     "data": {
      "text/plain": [
       "<Figure size 432x288 with 1 Axes>"
      ],
      "image/png": "[encoded data removed]"
     },
     "metadata": {
      "needs_background": "light"
     },
     "output_type": "display_data"
    }
   ],
   "execution_count": 4
  },
  {
   "metadata": {
    "ExecuteTime": {
     "end_time": "2025-10-12T06:00:51.623278Z",
     "start_time": "2025-10-12T06:00:51.616263Z"
    }
   },
   "cell_type": "code",
   "source": "img[100, 100]",
   "outputs": [
    {
     "data": {
      "text/plain": [
       "array([0, 0, 0], dtype=uint8)"
      ]
     },
     "execution_count": 5,
     "metadata": {},
     "output_type": "execute_result"
    }
   ],
   "execution_count": 5
  },
  {
   "metadata": {
    "ExecuteTime": {
     "end_time": "2025-10-12T06:00:52.151649Z",
     "start_time": "2025-10-12T06:00:52.144895Z"
    }
   },
   "cell_type": "code",
   "source": "img[100, 100, 0]",
   "outputs": [
    {
     "data": {
      "text/plain": [
       "0"
      ]
     },
     "execution_count": 6,
     "metadata": {},
     "output_type": "execute_result"
    }
   ],
   "execution_count": 6
  },
  {
   "metadata": {
    "ExecuteTime": {
     "end_time": "2025-10-12T06:00:52.706574Z",
     "start_time": "2025-10-12T06:00:52.597294Z"
    }
   },
   "cell_type": "code",
   "source": [
    "img[100, 100] = (0, 0, 255)\n",
    "plt.imshow(img[:, :, ::-1])"
   ],
   "outputs": [
    {
     "data": {
      "text/plain": [
       "<matplotlib.image.AxesImage at 0x181ad90df40>"
      ]
     },
     "execution_count": 7,
     "metadata": {},
     "output_type": "execute_result"
    },
    {
     "data": {
      "text/plain": [
       "<Figure size 432x288 with 1 Axes>"
      ],
      "image/png": "[encoded data removed]"
     },
     "metadata": {
      "needs_background": "light"
     },
     "output_type": "display_data"
    }
   ],
   "execution_count": 7
  },
  {
   "metadata": {
    "ExecuteTime": {
     "end_time": "2025-10-12T06:00:54.074247Z",
     "start_time": "2025-10-12T06:00:54.063419Z"
    }
   },
   "cell_type": "code",
   "source": "img[100, 100]",
   "outputs": [
    {
     "data": {
      "text/plain": [
       "array([  0,   0, 255], dtype=uint8)"
      ]
     },
     "execution_count": 8,
     "metadata": {},
     "output_type": "execute_result"
    }
   ],
   "execution_count": 8
  },
  {
   "cell_type": "code",
   "metadata": {
    "ExecuteTime": {
     "end_time": "2025-10-12T03:46:21.133322Z",
     "start_time": "2025-10-12T03:46:17.716160Z"
    }
   },
   "source": [
    "# 访问图像的像素（不推荐）\n",
    "# 第 1 个是第多少行，第 2 个是第多少列\n",
    "img = cv.imread(\"./images/xiaoren.png\")\n",
    "px = img[250, 300]\n",
    "print(f\"位置(250, 300)对应的像素为：{px}\")\n",
    "\n",
    "blue = img[250, 300, 0]  # BGR\n",
    "print(f\"位置(250, 300)对应的像素的蓝色取值为：{blue}\")\n",
    "\n",
    "# 设置所有红色像素为 127（0~255）\n",
    "img[:, :, 2] = 127\n",
    "print(f\"位置(250, 300)对应的像素为：{img[250, 300]}\")\n",
    "\n",
    "# 可视化\n",
    "cv.imshow('image', img)\n",
    "cv.waitKey(0)\n",
    "cv.destroyAllWindows()"
   ],
   "outputs": [
    {
     "name": "stdout",
     "output_type": "stream",
     "text": [
      "位置(250, 300)对应的像素为：[248 250 250]\n",
      "位置(250, 300)对应的像素的蓝色取值为：248\n",
      "位置(250, 300)对应的像素为：[248 250 127]\n"
     ]
    }
   ],
   "execution_count": 22
  },
  {
   "cell_type": "code",
   "metadata": {
    "ExecuteTime": {
     "end_time": "2025-10-12T03:43:35.219882Z",
     "start_time": "2025-10-12T03:43:35.205705Z"
    }
   },
   "source": [
    "# 基于 Image 对象获取对应的像素值\n",
    "print(\"位置(250, 300)对应的像素蓝色取值为：\", img.item(250, 300, 0))\n",
    "\n",
    "# 设置像素值\n",
    "img.itemset((250, 300, 0), 100)\n",
    "print(\"位置(250, 300)对应的像素新的蓝色取值为：\", img.item(250, 300, 0))"
   ],
   "outputs": [
    {
     "name": "stdout",
     "output_type": "stream",
     "text": [
      "位置(250, 300)对应的像素蓝色取值为： 248\n",
      "位置(250, 300)对应的像素新的蓝色取值为： 100\n"
     ]
    }
   ],
   "execution_count": 6
  },
  {
   "cell_type": "code",
   "metadata": {
    "ExecuteTime": {
     "end_time": "2025-10-12T03:50:40.933327Z",
     "start_time": "2025-10-12T03:50:39.833897Z"
    }
   },
   "source": [
    "# 加载图像\n",
    "img = cv.imread(\"./images/xiaoren.png\")\n",
    "\n",
    "# 粘贴图像\n",
    "box = img[0:95, 20:240]        # 截取的图\n",
    "box2 = img[0:95, 280:500]      # 粘贴的位置\n",
    "box2 = box2 * 0.8 + box * 0.2  # 叠加\n",
    "img[0:95, 280:500] = box2      # 粘贴回去\n",
    "\n",
    "# 可视化\n",
    "cv.imshow('image', img)\n",
    "cv.waitKey(0)\n",
    "cv.destroyAllWindows()"
   ],
   "outputs": [],
   "execution_count": 37
  },
  {
   "metadata": {},
   "cell_type": "markdown",
   "source": [
    "#### 图像通道的拆分与合并\n",
    "- 有时需要在B，G，R通道图像上单独工作。在这种情况下，需要将BGR图像分割为单个通道。或者在其他情况下，可能需要将这些单独的通道合并到BGR图像。你可以通过以下方式完成。"
   ]
  },
  {
   "cell_type": "code",
   "metadata": {
    "ExecuteTime": {
     "end_time": "2025-10-12T03:43:35.979577Z",
     "start_time": "2025-10-12T03:43:35.964571Z"
    }
   },
   "source": [
    "# c1, c2, c3 = cv.split(img)  # b, g, r\n",
    "# 将原来的 r 当成新图像的中 b，将原来的 b 当成新图像中的 r\n",
    "# img = cv.merge((c3, c2, c1))"
   ],
   "outputs": [],
   "execution_count": 8
  },
  {
   "cell_type": "code",
   "metadata": {
    "ExecuteTime": {
     "end_time": "2025-10-12T03:51:51.385017Z",
     "start_time": "2025-10-12T03:51:48.973193Z"
    }
   },
   "source": [
    "b, g, r = cv.split(img)\n",
    "# 将原来的 r 当成新图像的中 b，将原来的 b 当成新图像中的 r\n",
    "img = cv.merge((r, g, b))\n",
    "\n",
    "# 可视化\n",
    "cv.imshow('image', img)\n",
    "cv.waitKey(0)\n",
    "cv.destroyAllWindows()"
   ],
   "outputs": [],
   "execution_count": 38
  },
  {
   "cell_type": "code",
   "metadata": {
    "ExecuteTime": {
     "end_time": "2025-10-12T03:51:55.198756Z",
     "start_time": "2025-10-12T03:51:54.852099Z"
    }
   },
   "source": [
    "\"\"\"添加边框\"\"\"\n",
    "\n",
    "# 读取图片\n",
    "img = cv.imread('./images/opencv-logo.png')\n",
    "print(\"原图大小：\", img.shape)\n",
    "\n",
    "# 开始添加边框\n",
    "# 直接复制\n",
    "replicate = cv.copyMakeBorder(img, top=10, bottom=10, left=10, right=10, borderType=cv.BORDER_REPLICATE)\n",
    "print(\"添加边框后图大小：\", replicate.shape)\n",
    "# 边界反射\n",
    "reflect = cv.copyMakeBorder(img, 10, 10, 10, 10, cv.BORDER_REFLECT)\n",
    "# 边界反射 101（边界像素不保留）\n",
    "reflect101 = cv.copyMakeBorder(img, 10, 10, 10, 10, cv.BORDER_REFLECT_101)\n",
    "# 边界延伸循环\n",
    "wrap = cv.copyMakeBorder(img, 10, 10, 10, 10, cv.BORDER_WRAP)\n",
    "# 添加常数（常用）\n",
    "# value=[128, 128, 128]：BGR 数值都相同时一般为灰色，其中[0, 0, 0]为黑色，[255, 255, 255]为白色\n",
    "constant= cv.copyMakeBorder(img, 10, 10, 10, 10, cv.BORDER_CONSTANT, value=[128, 128, 128])\n",
    "\n",
    "# 可视化\n",
    "plt.subplot(231)\n",
    "plt.imshow(cv.cvtColor(img, cv.COLOR_BGR2RGB))         # 原图\n",
    "plt.title(\"Original\")\n",
    "plt.subplot(232)\n",
    "plt.imshow(cv.cvtColor(replicate, cv.COLOR_BGR2RGB))   # 复制\n",
    "plt.title(\"Replicate\")\n",
    "plt.subplot(233)\n",
    "plt.imshow(cv.cvtColor(reflect, cv.COLOR_BGR2RGB))     # 边界反射\n",
    "plt.title(\"Reflect\")\n",
    "plt.subplot(234)\n",
    "plt.imshow(cv.cvtColor(reflect101, cv.COLOR_BGR2RGB))  # 边界反射 101（边界像素不保留）\n",
    "plt.title(\"Reflect101\")\n",
    "plt.subplot(235)\n",
    "plt.imshow(cv.cvtColor(wrap, cv.COLOR_BGR2RGB))        # 边界延伸循环\n",
    "plt.title(\"Wrap\")\n",
    "plt.subplot(236)\n",
    "plt.imshow(cv.cvtColor(constant, cv.COLOR_BGR2RGB))    # 添加常数\n",
    "plt.title(\"Constant\")\n",
    "\n",
    "plt.show()"
   ],
   "outputs": [
    {
     "name": "stdout",
     "output_type": "stream",
     "text": [
      "原图大小： (99, 82, 3)\n",
      "添加边框后图大小： (119, 102, 3)\n"
     ]
    },
    {
     "data": {
      "text/plain": [
       "<Figure size 432x288 with 6 Axes>"
      ],
      "image/png": "[encoded data removed]"
     },
     "metadata": {
      "needs_background": "light"
     },
     "output_type": "display_data"
    }
   ],
   "execution_count": 39
  },
  {
   "cell_type": "code",
   "metadata": {
    "ExecuteTime": {
     "end_time": "2025-10-12T03:56:07.276377Z",
     "start_time": "2025-10-12T03:56:07.254129Z"
    }
   },
   "source": [
    "# 添加边框\n",
    "# 读取图片\n",
    "img = np.array([1, 2, 3, 4, 5, 6, 7, 8, 9]).reshape(3, 3)\n",
    "\n",
    "# 开始添加边框\n",
    "# 直接复制: 直接将边缘的像素点作为新增像素点的值\n",
    "replicate = cv.copyMakeBorder(img, top=3, bottom=3, left=3, right=3, borderType=cv.BORDER_REPLICATE)\n",
    "# 边界反射\n",
    "reflect = cv.copyMakeBorder(img, 3, 3, 3, 3, cv.BORDER_REFLECT)\n",
    "# 边界反射 101（边界像素不保留）\n",
    "reflect101 = cv.copyMakeBorder(img, 3, 3, 3, 3, cv.BORDER_REFLECT_101)\n",
    "# 边界延伸\n",
    "wrap = cv.copyMakeBorder(img, 2, 2, 2, 2, cv.BORDER_WRAP)\n",
    "# 添加常数\n",
    "constant= cv.copyMakeBorder(img, 2, 2, 2, 2, cv.BORDER_CONSTANT, value=0)\n",
    "\n",
    "print(\"原图：\\n\", img, sep=\"\")\n",
    "print(\"\\n直接复制，直接将边缘的像素点作为新增像素点的值：\\n\", replicate, sep=\"\")\n",
    "print(\"\\n边界反射：\\n\", reflect, sep=\"\")\n",
    "print(\"\\n边界反射(101)，边界像素不保留：\\n\", reflect101, sep=\"\")\n",
    "print(\"\\n边界延伸：\\n\", wrap, sep=\"\")\n",
    "print(\"\\n添加常数：\\n\", constant, sep=\"\")"
   ],
   "outputs": [
    {
     "name": "stdout",
     "output_type": "stream",
     "text": [
      "原图：\n",
      "[[1 2 3]\n",
      " [4 5 6]\n",
      " [7 8 9]]\n",
      "\n",
      "直接复制，直接将边缘的像素点作为新增像素点的值：\n",
      "[[1 1 1 1 2 3 3 3 3]\n",
      " [1 1 1 1 2 3 3 3 3]\n",
      " [1 1 1 1 2 3 3 3 3]\n",
      " [1 1 1 1 2 3 3 3 3]\n",
      " [4 4 4 4 5 6 6 6 6]\n",
      " [7 7 7 7 8 9 9 9 9]\n",
      " [7 7 7 7 8 9 9 9 9]\n",
      " [7 7 7 7 8 9 9 9 9]\n",
      " [7 7 7 7 8 9 9 9 9]]\n",
      "\n",
      "边界反射：\n",
      "[[9 8 7 7 8 9 9 8 7]\n",
      " [6 5 4 4 5 6 6 5 4]\n",
      " [3 2 1 1 2 3 3 2 1]\n",
      " [3 2 1 1 2 3 3 2 1]\n",
      " [6 5 4 4 5 6 6 5 4]\n",
      " [9 8 7 7 8 9 9 8 7]\n",
      " [9 8 7 7 8 9 9 8 7]\n",
      " [6 5 4 4 5 6 6 5 4]\n",
      " [3 2 1 1 2 3 3 2 1]]\n",
      "\n",
      "边界反射(101)，边界像素不保留：\n",
      "[[5 6 5 4 5 6 5 4 5]\n",
      " [8 9 8 7 8 9 8 7 8]\n",
      " [5 6 5 4 5 6 5 4 5]\n",
      " [2 3 2 1 2 3 2 1 2]\n",
      " [5 6 5 4 5 6 5 4 5]\n",
      " [8 9 8 7 8 9 8 7 8]\n",
      " [5 6 5 4 5 6 5 4 5]\n",
      " [2 3 2 1 2 3 2 1 2]\n",
      " [5 6 5 4 5 6 5 4 5]]\n",
      "\n",
      "边界延伸：\n",
      "[[5 6 4 5 6 4 5]\n",
      " [8 9 7 8 9 7 8]\n",
      " [2 3 1 2 3 1 2]\n",
      " [5 6 4 5 6 4 5]\n",
      " [8 9 7 8 9 7 8]\n",
      " [2 3 1 2 3 1 2]\n",
      " [5 6 4 5 6 4 5]]\n",
      "\n",
      "添加常数：\n",
      "[[0 0 0 0 0 0 0]\n",
      " [0 0 0 0 0 0 0]\n",
      " [0 0 1 2 3 0 0]\n",
      " [0 0 4 5 6 0 0]\n",
      " [0 0 7 8 9 0 0]\n",
      " [0 0 0 0 0 0 0]\n",
      " [0 0 0 0 0 0 0]]\n"
     ]
    }
   ],
   "execution_count": 40
  },
  {
   "cell_type": "code",
   "metadata": {
    "ExecuteTime": {
     "end_time": "2025-10-12T03:43:37.033335Z",
     "start_time": "2025-10-12T03:43:37.019161Z"
    }
   },
   "source": [
    "# 图有 6 个通道\n",
    "img = np.array(np.arange(0, 54)).reshape((3, 3, 6))\n",
    "print(\"原图：\\n\", img, sep=\"\")\n",
    "\n",
    "# 添加边框\n",
    "# 直接复制: 直接将边缘的像素点作为新增像素点的值\n",
    "img2 = cv.copyMakeBorder(img, top=3, bottom=3, left=3, right=3, borderType=cv.BORDER_REPLICATE)\n",
    "print(\"\\n带框图的形状（0轴和1轴分别增加了3x2=6个像素）：\\n\", img2.shape, sep=\"\")\n",
    "print(\"\\n原图换轴后（每个矩阵是一个通道）：\\n\", np.transpose(img, (2, 0, 1)), sep=\"\")\n",
    "print(\"\\n带框图换轴后（每个矩阵是一个通道）：\\n\", np.transpose(img2, (2, 0, 1)), sep=\"\")"
   ],
   "outputs": [
    {
     "name": "stdout",
     "output_type": "stream",
     "text": [
      "原图：\n",
      "[[[ 0  1  2  3  4  5]\n",
      "  [ 6  7  8  9 10 11]\n",
      "  [12 13 14 15 16 17]]\n",
      "\n",
      " [[18 19 20 21 22 23]\n",
      "  [24 25 26 27 28 29]\n",
      "  [30 31 32 33 34 35]]\n",
      "\n",
      " [[36 37 38 39 40 41]\n",
      "  [42 43 44 45 46 47]\n",
      "  [48 49 50 51 52 53]]]\n",
      "\n",
      "带框图的形状（0轴和1轴分别增加了3x2=6个像素）：\n",
      "(9, 9, 6)\n",
      "\n",
      "原图换轴后（每个矩阵是一个通道）：\n",
      "[[[ 0  6 12]\n",
      "  [18 24 30]\n",
      "  [36 42 48]]\n",
      "\n",
      " [[ 1  7 13]\n",
      "  [19 25 31]\n",
      "  [37 43 49]]\n",
      "\n",
      " [[ 2  8 14]\n",
      "  [20 26 32]\n",
      "  [38 44 50]]\n",
      "\n",
      " [[ 3  9 15]\n",
      "  [21 27 33]\n",
      "  [39 45 51]]\n",
      "\n",
      " [[ 4 10 16]\n",
      "  [22 28 34]\n",
      "  [40 46 52]]\n",
      "\n",
      " [[ 5 11 17]\n",
      "  [23 29 35]\n",
      "  [41 47 53]]]\n",
      "\n",
      "带框图换轴后（每个矩阵是一个通道）：\n",
      "[[[ 0  0  0  0  6 12 12 12 12]\n",
      "  [ 0  0  0  0  6 12 12 12 12]\n",
      "  [ 0  0  0  0  6 12 12 12 12]\n",
      "  [ 0  0  0  0  6 12 12 12 12]\n",
      "  [18 18 18 18 24 30 30 30 30]\n",
      "  [36 36 36 36 42 48 48 48 48]\n",
      "  [36 36 36 36 42 48 48 48 48]\n",
      "  [36 36 36 36 42 48 48 48 48]\n",
      "  [36 36 36 36 42 48 48 48 48]]\n",
      "\n",
      " [[ 1  1  1  1  7 13 13 13 13]\n",
      "  [ 1  1  1  1  7 13 13 13 13]\n",
      "  [ 1  1  1  1  7 13 13 13 13]\n",
      "  [ 1  1  1  1  7 13 13 13 13]\n",
      "  [19 19 19 19 25 31 31 31 31]\n",
      "  [37 37 37 37 43 49 49 49 49]\n",
      "  [37 37 37 37 43 49 49 49 49]\n",
      "  [37 37 37 37 43 49 49 49 49]\n",
      "  [37 37 37 37 43 49 49 49 49]]\n",
      "\n",
      " [[ 2  2  2  2  8 14 14 14 14]\n",
      "  [ 2  2  2  2  8 14 14 14 14]\n",
      "  [ 2  2  2  2  8 14 14 14 14]\n",
      "  [ 2  2  2  2  8 14 14 14 14]\n",
      "  [20 20 20 20 26 32 32 32 32]\n",
      "  [38 38 38 38 44 50 50 50 50]\n",
      "  [38 38 38 38 44 50 50 50 50]\n",
      "  [38 38 38 38 44 50 50 50 50]\n",
      "  [38 38 38 38 44 50 50 50 50]]\n",
      "\n",
      " [[ 3  3  3  3  9 15 15 15 15]\n",
      "  [ 3  3  3  3  9 15 15 15 15]\n",
      "  [ 3  3  3  3  9 15 15 15 15]\n",
      "  [ 3  3  3  3  9 15 15 15 15]\n",
      "  [21 21 21 21 27 33 33 33 33]\n",
      "  [39 39 39 39 45 51 51 51 51]\n",
      "  [39 39 39 39 45 51 51 51 51]\n",
      "  [39 39 39 39 45 51 51 51 51]\n",
      "  [39 39 39 39 45 51 51 51 51]]\n",
      "\n",
      " [[ 4  4  4  4 10 16 16 16 16]\n",
      "  [ 4  4  4  4 10 16 16 16 16]\n",
      "  [ 4  4  4  4 10 16 16 16 16]\n",
      "  [ 4  4  4  4 10 16 16 16 16]\n",
      "  [22 22 22 22 28 34 34 34 34]\n",
      "  [40 40 40 40 46 52 52 52 52]\n",
      "  [40 40 40 40 46 52 52 52 52]\n",
      "  [40 40 40 40 46 52 52 52 52]\n",
      "  [40 40 40 40 46 52 52 52 52]]\n",
      "\n",
      " [[ 5  5  5  5 11 17 17 17 17]\n",
      "  [ 5  5  5  5 11 17 17 17 17]\n",
      "  [ 5  5  5  5 11 17 17 17 17]\n",
      "  [ 5  5  5  5 11 17 17 17 17]\n",
      "  [23 23 23 23 29 35 35 35 35]\n",
      "  [41 41 41 41 47 53 53 53 53]\n",
      "  [41 41 41 41 47 53 53 53 53]\n",
      "  [41 41 41 41 47 53 53 53 53]\n",
      "  [41 41 41 41 47 53 53 53 53]]]\n"
     ]
    }
   ],
   "execution_count": 12
  },
  {
   "cell_type": "markdown",
   "metadata": {},
   "source": [
    "## 图像运算"
   ]
  },
  {
   "cell_type": "code",
   "metadata": {
    "ExecuteTime": {
     "end_time": "2025-10-12T03:43:38.353111Z",
     "start_time": "2025-10-12T03:43:37.033335Z"
    }
   },
   "source": [
    "\"\"\"图像合并\"\"\"\n",
    "\n",
    "# 加载图像\n",
    "img1 = cv.imread(\"./images/xiaoren.png\")\n",
    "img2 = cv.imread(\"./images/opencv-logo.png\")\n",
    "\n",
    "# 设置为相同大小\n",
    "# dsize=(300, 300)：目标尺寸 (width, height)\n",
    "img1 = cv.resize(img1, dsize=(300, 300))\n",
    "img2 = cv.resize(img2, dsize=(300, 300))\n",
    "\n",
    "# 添加背景\n",
    "# 使用.addWeighted() 函数对两张图像进行加权融合\n",
    "# 计算公式：dst = alpha * src1 + beta * src2 + gamma\n",
    "# dst = cv.addWeighted(src1=img1, alpha=0.3, src2=img2, beta=1.0, gamma=0)\n",
    "# print(dst)\n",
    "\n",
    "# 下面的结果类似 cv.addWeighted()，差别：前者是 float 类型，后者是 int 类型\n",
    "dst = 0.3 * img1 + 1.0 * img2 + 0\n",
    "# dst / 255.0：归一化操作，将原本 0-255 范围的像素值转换为 0.0 - 1.0 范围的浮点数\n",
    "# .clip(0.0, 1.0)：剪切，将所有小于 0.0 的值设为 0.0，大于 1.0 的值设为 1.0\n",
    "dst = (dst / 255.0).clip(0.0, 1.0)  \n",
    "print(dst)\n",
    "\n",
    "# 可视化\n",
    "cv.imshow('image', dst)\n",
    "cv.waitKey(0)\n",
    "cv.destroyAllWindows()"
   ],
   "outputs": [
    {
     "name": "stdout",
     "output_type": "stream",
     "text": [
      "[[[0.3 0.3 0.3]\n",
      "  [0.3 0.3 0.3]\n",
      "  [0.3 0.3 0.3]\n",
      "  ...\n",
      "  [0.3 0.3 0.3]\n",
      "  [0.3 0.3 0.3]\n",
      "  [0.3 0.3 0.3]]\n",
      "\n",
      " [[0.3 0.3 0.3]\n",
      "  [0.3 0.3 0.3]\n",
      "  [0.3 0.3 0.3]\n",
      "  ...\n",
      "  [0.3 0.3 0.3]\n",
      "  [0.3 0.3 0.3]\n",
      "  [0.3 0.3 0.3]]\n",
      "\n",
      " [[0.3 0.3 0.3]\n",
      "  [0.3 0.3 0.3]\n",
      "  [0.3 0.3 0.3]\n",
      "  ...\n",
      "  [0.3 0.3 0.3]\n",
      "  [0.3 0.3 0.3]\n",
      "  [0.3 0.3 0.3]]\n",
      "\n",
      " ...\n",
      "\n",
      " [[0.3 0.3 0.3]\n",
      "  [0.3 0.3 0.3]\n",
      "  [0.3 0.3 0.3]\n",
      "  ...\n",
      "  [0.3 0.3 0.3]\n",
      "  [0.3 0.3 0.3]\n",
      "  [0.3 0.3 0.3]]\n",
      "\n",
      " [[0.3 0.3 0.3]\n",
      "  [0.3 0.3 0.3]\n",
      "  [0.3 0.3 0.3]\n",
      "  ...\n",
      "  [0.3 0.3 0.3]\n",
      "  [0.3 0.3 0.3]\n",
      "  [0.3 0.3 0.3]]\n",
      "\n",
      " [[0.3 0.3 0.3]\n",
      "  [0.3 0.3 0.3]\n",
      "  [0.3 0.3 0.3]\n",
      "  ...\n",
      "  [0.3 0.3 0.3]\n",
      "  [0.3 0.3 0.3]\n",
      "  [0.3 0.3 0.3]]]\n"
     ]
    }
   ],
   "execution_count": 13
  },
  {
   "cell_type": "code",
   "metadata": {
    "ExecuteTime": {
     "end_time": "2025-10-12T03:43:39.144585Z",
     "start_time": "2025-10-12T03:43:38.353111Z"
    }
   },
   "source": [
    "# 加权融合\n",
    "a = img1 * 0.3 + img2 * 1.0\n",
    "print(\"最大值：\", np.max(a))\n",
    "\n",
    "# 归一化\n",
    "a = np.clip(a, a_min=0, a_max=255).astype(np.uint8)\n",
    "print(\"数据类型：\", a.dtype)\n",
    "\n",
    "# 图像可视化\n",
    "cv.imshow('image', a)\n",
    "cv.waitKey(0)\n",
    "cv.destroyAllWindows()"
   ],
   "outputs": [
    {
     "name": "stdout",
     "output_type": "stream",
     "text": [
      "最大值： 323.5\n",
      "数据类型： uint8\n"
     ]
    }
   ],
   "execution_count": 14
  },
  {
   "cell_type": "code",
   "metadata": {
    "ExecuteTime": {
     "end_time": "2025-10-12T03:43:42.473727Z",
     "start_time": "2025-10-12T03:43:39.144585Z"
    }
   },
   "source": [
    "# 加载图像\n",
    "img2 = cv.imread(\"./images/opencv-logo.png\")\n",
    "\n",
    "# 将图像转换为灰度图\n",
    "img2gray = cv.cvtColor(img2, cv.COLOR_BGR2GRAY)\n",
    "\n",
    "# 二值化操作：将输入图像（灰度图像）中所有像素值大于第 2 个参数的全部设置为第 3 个参数值\n",
    "ret, mask = cv.threshold(src=img2gray, thresh=10, maxval=255, type=cv.THRESH_BINARY)\n",
    "# print(ret)  # 阈值：10.0\n",
    "mask_inv = cv.bitwise_not(mask)  # 求反\n",
    "\n",
    "# 可视化\n",
    "cv.imshow('img2', img2)          # 原图\n",
    "cv.imshow('img2gray', img2gray)  # 灰度图\n",
    "cv.imshow('mask', mask)          # 黑白图，掩膜 mask\n",
    "cv.imshow('mask_inv', mask_inv)  # 黑白反转图\n",
    "\n",
    "cv.waitKey(0)\n",
    "cv.destroyAllWindows()"
   ],
   "outputs": [],
   "execution_count": 15
  },
  {
   "cell_type": "code",
   "metadata": {
    "ExecuteTime": {
     "end_time": "2025-10-12T03:43:46.119634Z",
     "start_time": "2025-10-12T03:43:42.474723Z"
    }
   },
   "source": [
    "\"\"\"图像的位运算（将 logo 放到图像的中上方）\"\"\"\n",
    "\n",
    "# 加载图像\n",
    "img1 = cv.imread(\"./images/xiaoren.png\")\n",
    "img2 = cv.imread(\"./images/opencv-logo.png\")\n",
    "\n",
    "# 获取一个新数据（右上角区域数据）\n",
    "rows1, cols1, _ = img1.shape                          # img1 的行数、列数\n",
    "rows, cols, channels = img2.shape                     # img2 的行数、列数、通道\n",
    "start_rows = 50                                       # 开始行\n",
    "end_rows = rows + 50                                  # 结束行 = img2的行数 + 50\n",
    "start_cols = cols1 - cols - 200                       # 开始列 = img1的列数 - 200 - img2的列数\n",
    "end_cols = cols1 - 200                                # 结束列 = img1的列数 - 200\n",
    "roi = img1[start_rows:end_rows, start_cols:end_cols]  # img1 的区域数据 [开始行:结束行, 开始列:结束列]\n",
    "\n",
    "# 画红色矩形\n",
    "# 点坐标的形状为: [宽度，高度]\n",
    "cv.rectangle(img1, pt1=(start_cols, start_rows), pt2=(end_cols, end_rows), color=(0, 0, 255), thickness=2)\n",
    "\n",
    "# 将图像转换为灰度图像\n",
    "img2gray = cv.cvtColor(img2, cv.COLOR_BGR2GRAY)\n",
    "# 将灰度图像转换为黑白图像，做一个二值化操作\n",
    "ret, mask = cv.threshold(img2gray, 10, 255, cv.THRESH_BINARY)\n",
    "# 对图像做一个求反的操作，即 255-mask(白底、黑图像)\n",
    "mask_inv = cv.bitwise_not(mask)\n",
    "print(mask_inv)\n",
    "\n",
    "# 获取得到背景图\n",
    "# 对两个相同尺寸的图像进行按位与运算，并应用反向掩膜控制操作区域\n",
    "# 在求解 bitwise_and 操作的时候，如果给定 mask，只对 mask 中对应为白色的位置进行 and 操作，其它位置直接设置为 0\n",
    "img1_bg = cv.bitwise_and(roi, roi, mask=mask_inv)\n",
    "\n",
    "# 获取得到前景图\n",
    "img2_fg = cv.bitwise_and(img2, img2, mask=mask)\n",
    "\n",
    "# 前景颜色和背景颜色合并\n",
    "dst = cv.add(img1_bg, img2_fg)\n",
    "# dst = img1_bg + img2_fg  # 同上\n",
    "\n",
    "# 复制粘贴\n",
    "img1[start_rows:end_rows, start_cols:end_cols] = dst\n",
    "\n",
    "# 可视化\n",
    "cv.imshow('mask_inv', mask_inv)  # 反向掩膜\n",
    "cv.imshow('img1_bg', img1_bg)    # 提取背景\n",
    "cv.imshow('mask', mask)          # 掩膜\n",
    "cv.imshow('img2_fg', img2_fg)    # 提取前景\n",
    "cv.imshow('dst', dst)            # 前景和背景合并\n",
    "cv.imshow('res', img1)           # 叠加 Logo\n",
    "cv.waitKey(0)\n",
    "cv.destroyAllWindows()"
   ],
   "outputs": [
    {
     "name": "stdout",
     "output_type": "stream",
     "text": [
      "[[255 255 255 ... 255 255 255]\n",
      " [255 255 255 ... 255 255 255]\n",
      " [255 255 255 ... 255 255 255]\n",
      " ...\n",
      " [255 255 255 ... 255 255 255]\n",
      " [255 255 255 ... 255 255 255]\n",
      " [255 255 255 ... 255 255 255]]\n"
     ]
    }
   ],
   "execution_count": 16
  }
 ],
 "metadata": {
  "kernelspec": {
   "display_name": "Python 3 (ipykernel)",
   "language": "python",
   "name": "python3"
  },
  "language_info": {
   "codemirror_mode": {
    "name": "ipython",
    "version": 3
   },
   "file_extension": ".py",
   "mimetype": "text/x-python",
   "name": "python",
   "nbconvert_exporter": "python",
   "pygments_lexer": "ipython3",
   "version": "3.12.7"
  }
 },
 "nbformat": 4,
 "nbformat_minor": 4
}
