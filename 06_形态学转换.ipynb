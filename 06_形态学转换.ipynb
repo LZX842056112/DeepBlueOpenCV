{
 "cells": [
  {
   "cell_type": "markdown",
   "metadata": {},
   "source": [
    "# 形态学转换\n",
    "- 腐蚀\n",
    "- 膨胀\n",
    "- 开运算\n",
    "- 闭运算\n",
    "- 形态梯度\n",
    "- Top Hat\n",
    "- Black Hat"
   ]
  },
  {
   "cell_type": "code",
   "execution_count": 1,
   "metadata": {},
   "outputs": [],
   "source": [
    "import numpy as np\n",
    "import cv2 as cv\n",
    "import matplotlib.pyplot as plt"
   ]
  },
  {
   "cell_type": "markdown",
   "metadata": {},
   "source": [
    "## 形态学转换"
   ]
  },
  {
   "cell_type": "markdown",
   "metadata": {},
   "source": [
    "主要包括腐蚀、膨胀、开运算、闭运算等操作；主要操作是基于 kernel 核的操作<br/>\n",
    "常见的核主要有：矩阵、十字架、椭圆结构的 kernel<br/>\n",
    "它决定了形态学操作（如腐蚀、膨胀）的邻域形状和大小，它和卷积核在数学本质、用途和计算方式上完全不同\n",
    "\n",
    "形态学转换见：http://homepages.inf.ed.ac.uk/rbf/HIPR2/morops.htm"
   ]
  },
  {
   "cell_type": "code",
   "execution_count": 2,
   "metadata": {},
   "outputs": [
    {
     "name": "stdout",
     "output_type": "stream",
     "text": [
      "矩形kernel:\n",
      "[[1 1 1 1 1]\n",
      " [1 1 1 1 1]\n",
      " [1 1 1 1 1]\n",
      " [1 1 1 1 1]\n",
      " [1 1 1 1 1]]\n",
      "\n",
      "十字架kernel:\n",
      "[[0 0 1 0 0]\n",
      " [0 0 1 0 0]\n",
      " [1 1 1 1 1]\n",
      " [0 0 1 0 0]\n",
      " [0 0 1 0 0]]\n",
      "\n",
      "椭圆kernel:\n",
      "[[0 0 1 0 0]\n",
      " [1 1 1 1 1]\n",
      " [1 1 1 1 1]\n",
      " [1 1 1 1 1]\n",
      " [0 0 1 0 0]]\n"
     ]
    }
   ],
   "source": [
    "# 生成形态学操作的结构元素——核\n",
    "kernel1 = cv.getStructuringElement(cv.MORPH_RECT, ksize=(5, 5))\n",
    "print(\"矩形kernel:\\n\", kernel1, sep=\"\")\n",
    "\n",
    "kernel2 = cv.getStructuringElement(cv.MORPH_CROSS, ksize=(5, 5))\n",
    "print(\"\\n十字架kernel:\\n\", kernel2, sep=\"\")\n",
    "\n",
    "kernel3 = cv.getStructuringElement(cv.MORPH_ELLIPSE, ksize=(5, 5))\n",
    "print(\"\\n椭圆kernel:\\n\", kernel3, sep=\"\")"
   ]
  },
  {
   "cell_type": "markdown",
   "metadata": {},
   "source": [
    "### 腐蚀\n",
    "腐蚀的意思是将边缘的像素点进行一些去除的操作；<br>\n",
    "1. 滑动内核：将内核的中心（称为锚点，默认是中心点）对准输入图像上的每一个像素。\n",
    "2. 计算最小值：查看内核所覆盖的输入图像区域，取出这个区域内所有像素值的最小值。\n",
    "3. 替换锚点像素：用这个计算出的最小值来替换输出图像中锚点位置的像素值。\n",
    "\n",
    "其主要效果是：可以在图像中减少前景图像（白色区域）的厚度，有助于减少白色噪声，可以用于分离两个连接的对象<br/>\n",
    "一般应用与只有黑白像素的灰度情况"
   ]
  },
  {
   "cell_type": "code",
   "execution_count": 3,
   "metadata": {},
   "outputs": [],
   "source": [
    "# 加载灰度图\n",
    "img = cv.imread(\"./images/j.png\", cv.IMREAD_GRAYSCALE)"
   ]
  },
  {
   "cell_type": "code",
   "execution_count": 4,
   "metadata": {},
   "outputs": [],
   "source": [
    "# 进行腐蚀操作\n",
    "# a. 定义一个核（全部设置为 1 表示对核中 5*5 区域的所有像素均进行考虑，设置为 0 表示不考虑）\n",
    "# 核的定义和卷积不一样，卷积里面是参数的意思，腐蚀里面是范围的意思（1 表示考虑，0 表示不考虑） \n",
    "kernel = np.ones((5, 5), np.uint8)\n",
    "\n",
    "# b. 腐蚀操作\n",
    "# iterations=1：腐蚀操作的迭代次数，值越大，腐蚀效果越强\n",
    "dst = cv.erode(img, kernel, iterations=1)\n",
    "\n",
    "# c. 可视化\n",
    "cv.imshow('img', img)\n",
    "cv.imshow('dst', dst)  # 腐蚀操作\n",
    "cv.waitKey(0)\n",
    "cv.destroyAllWindows()"
   ]
  },
  {
   "cell_type": "code",
   "execution_count": 5,
   "metadata": {},
   "outputs": [],
   "source": [
    "# 进行腐蚀操作\n",
    "# a. 定义一个核：十字架（设置为 1 表示考虑，设置为 0 表示不考虑）\n",
    "kernel = cv.getStructuringElement(cv.MORPH_CROSS, ksize=(5, 5))\n",
    "\n",
    "# b. 腐蚀操作\n",
    "# morphologyEx 函数与直接调用 cv.erode() 功能类似，但通过更通用的形态学操作接口实现\n",
    "dst = cv.morphologyEx(img, cv.MORPH_ERODE, kernel)\n",
    "\n",
    "# c. 可视化\n",
    "cv.imshow('img', img)\n",
    "cv.imshow('dst', dst)  # 十字架腐蚀\n",
    "cv.waitKey(0)\n",
    "cv.destroyAllWindows()"
   ]
  },
  {
   "cell_type": "code",
   "execution_count": 23,
   "metadata": {},
   "outputs": [
    {
     "data": {
      "text/plain": [
       "array([[0, 0, 1, 0, 0],\n",
       "       [0, 0, 1, 0, 0],\n",
       "       [1, 1, 1, 1, 1],\n",
       "       [0, 0, 1, 0, 0],\n",
       "       [0, 0, 1, 0, 0]], dtype=uint8)"
      ]
     },
     "execution_count": 23,
     "metadata": {},
     "output_type": "execute_result"
    }
   ],
   "source": [
    "kernel"
   ]
  },
  {
   "cell_type": "markdown",
   "metadata": {},
   "source": [
    "### 膨胀\n",
    "和腐蚀的操作相反，其功能是增加图像的白色区域的值；<br>\n",
    "1. 滑动内核：将内核的中心（锚点，默认是中心点）对准输入图像上的每一个像素。\n",
    "2. 计算最大值：查看内核所覆盖的输入图像区域，取出这个区域内所有像素值的最大值。\n",
    "3. 替换锚点像素：用这个计算出的最大值来替换输出图像中锚点位置的像素值。\n",
    "\n",
    "通常情况下，在去除噪声后，可以通过膨胀再恢复图像的目标区域信息。"
   ]
  },
  {
   "cell_type": "code",
   "execution_count": 6,
   "metadata": {},
   "outputs": [],
   "source": [
    "# 加载灰度图\n",
    "img = cv.imread(\"./images/j.png\", 0)"
   ]
  },
  {
   "cell_type": "code",
   "execution_count": 7,
   "metadata": {},
   "outputs": [],
   "source": [
    "# 进行膨胀操作\n",
    "# a. 定义一个核\n",
    "kernel = np.ones((5, 5), np.uint8)\n",
    "\n",
    "# b. 膨胀操作\n",
    "dst = cv.dilate(img, kernel, iterations=1)\n",
    "\n",
    "# c. 可视化\n",
    "cv.imshow('dst', dst)\n",
    "cv.waitKey(0)\n",
    "cv.destroyAllWindows()"
   ]
  },
  {
   "cell_type": "code",
   "execution_count": 8,
   "metadata": {},
   "outputs": [],
   "source": [
    "# 进行膨胀操作\n",
    "# a. 定义一个核：十字架\n",
    "kernel = cv.getStructuringElement(cv.MORPH_CROSS, (5, 5))\n",
    "\n",
    "# b. 膨胀操作\n",
    "# morphologyEx 函数与直接调用 cv.erode() 功能类似\n",
    "dst = cv.morphologyEx(img, cv.MORPH_DILATE, kernel)\n",
    "\n",
    "# c. 可视化\n",
    "cv.imshow('dst', dst)\n",
    "cv.waitKey(0)\n",
    "cv.destroyAllWindows()"
   ]
  },
  {
   "cell_type": "markdown",
   "metadata": {},
   "source": [
    "### Open 开运算\n",
    "Open 其实指的就是先做一次腐蚀，然后再做一次膨胀操作，一般用于去除白色噪声。"
   ]
  },
  {
   "cell_type": "code",
   "execution_count": 9,
   "metadata": {},
   "outputs": [],
   "source": [
    "# 加载灰度图\n",
    "img = cv.imread(\"./images/j.png\", 0)\n",
    "\n",
    "# 加载噪声数据\n",
    "rows, cols = img.shape\n",
    "for i in range(100):\n",
    "    # 从[0, cols)中抽取的随机整数\n",
    "    x = np.random.randint(cols)  \n",
    "    y = np.random.randint(rows)\n",
    "    # 在随机的点[列坐标, 行坐标]，填充白色\n",
    "    img[y, x] = 255"
   ]
  },
  {
   "cell_type": "code",
   "execution_count": 10,
   "metadata": {},
   "outputs": [],
   "source": [
    "# c. 可视化\n",
    "cv.imshow('img', img)  # 加白色噪声\n",
    "cv.waitKey(0)\n",
    "cv.destroyAllWindows()"
   ]
  },
  {
   "cell_type": "code",
   "execution_count": 12,
   "metadata": {},
   "outputs": [],
   "source": [
    "# a. 定义一个核\n",
    "kernel = np.ones((5, 5), np.uint8)\n",
    "\n",
    "# b. Open操作：去除白色噪声\n",
    "dst = cv.morphologyEx(img, op=cv.MORPH_OPEN, kernel=kernel, iterations=1)\n",
    "\n",
    "# c. 可视化\n",
    "cv.imshow('dst', dst)\n",
    "cv.waitKey(0)\n",
    "cv.destroyAllWindows()"
   ]
  },
  {
   "cell_type": "code",
   "execution_count": 13,
   "metadata": {},
   "outputs": [],
   "source": [
    "# a. 定义一个核\n",
    "kernel = np.ones((5, 5), np.uint8)\n",
    "\n",
    "# b. 先腐蚀\n",
    "dst1 = cv.erode(img, kernel, iterations=1)\n",
    "\n",
    "# c. 再膨胀\n",
    "dst2 = cv.dilate(dst1, kernel, iterations=1)\n",
    "\n",
    "# d. 可视化\n",
    "cv.imshow('img', img)\n",
    "cv.imshow('dst1', dst1)  # 腐蚀：去除白色噪声\n",
    "cv.imshow('dst2', dst2)  # 膨胀\n",
    "cv.waitKey(0)\n",
    "cv.destroyAllWindows()"
   ]
  },
  {
   "cell_type": "markdown",
   "metadata": {},
   "source": [
    "### Closing 闭运算\n",
    "Closing 其实指的就是先做一次膨胀，再做一次腐蚀；<br>\n",
    "对前景图像中的如果包含黑色点，有一共去除的效果。"
   ]
  },
  {
   "cell_type": "code",
   "execution_count": 14,
   "metadata": {},
   "outputs": [],
   "source": [
    "# 加载灰度图\n",
    "img = cv.imread(\"./images/j.png\", 0)\n",
    "\n",
    "# 加载噪声数据\n",
    "rows, cols = img.shape\n",
    "# 加白色点\n",
    "for i in range(100):\n",
    "    x = np.random.randint(cols)\n",
    "    y = np.random.randint(rows)\n",
    "    img[y, x] = 255\n",
    "    \n",
    "# 加黑色点\n",
    "for i in range(1000):\n",
    "    x = np.random.randint(cols)\n",
    "    y = np.random.randint(rows)\n",
    "    img[y, x] = 0"
   ]
  },
  {
   "cell_type": "code",
   "execution_count": 15,
   "metadata": {},
   "outputs": [],
   "source": [
    "# c. 可视化\n",
    "cv.imshow('img', img)  # 加黑白噪声\n",
    "cv.waitKey(0)\n",
    "cv.destroyAllWindows()"
   ]
  },
  {
   "cell_type": "code",
   "execution_count": 16,
   "metadata": {},
   "outputs": [],
   "source": [
    "# a. 定义一个核\n",
    "kernel = np.ones((5, 5), np.uint8)\n",
    "\n",
    "# b. Closing操作：去除黑色噪声\n",
    "dst = cv.morphologyEx(img, op=cv.MORPH_CLOSE, kernel=kernel, iterations=1)\n",
    "\n",
    "# c. 可视化\n",
    "cv.imshow('dst', dst)\n",
    "cv.waitKey(0)\n",
    "cv.destroyAllWindows()"
   ]
  },
  {
   "cell_type": "code",
   "execution_count": 17,
   "metadata": {},
   "outputs": [],
   "source": [
    "# a. 定义一个核\n",
    "kernel = np.ones((5,5), np.uint8)\n",
    "\n",
    "# b. 先膨胀\n",
    "dst1 = cv.dilate(img, kernel, iterations=1)\n",
    "\n",
    "# c. 再腐蚀\n",
    "dst2 = cv.erode(dst1, kernel, iterations=1)\n",
    "\n",
    "# d. 可视化\n",
    "cv.imshow('img', img)\n",
    "cv.imshow('dst1', dst1)  # 膨胀：去除黑色噪声\n",
    "cv.imshow('dst2', dst2)  # 腐蚀\n",
    "cv.waitKey(0)\n",
    "cv.destroyAllWindows()"
   ]
  },
  {
   "cell_type": "code",
   "execution_count": 18,
   "metadata": {},
   "outputs": [],
   "source": [
    "# a. 定义一个核\n",
    "kernel = np.ones((5, 5), np.uint8)\n",
    "\n",
    "# b. 先 Closing 操作，再 Open 操作\n",
    "dst1 = cv.morphologyEx(img, op=cv.MORPH_CLOSE, kernel=kernel, iterations=1)\n",
    "dst2 = cv.morphologyEx(dst1, op=cv.MORPH_OPEN, kernel=kernel, iterations=1)\n",
    "\n",
    "# c. 可视化\n",
    "cv.imshow('img', img)\n",
    "cv.imshow('dst1', dst1)  # Closing 后的图像：去除黑色噪声\n",
    "cv.imshow('dst2', dst2)  # Open 后的图像：去除白色噪声\n",
    "cv.waitKey(0)\n",
    "cv.destroyAllWindows()"
   ]
  },
  {
   "cell_type": "markdown",
   "metadata": {},
   "source": [
    "### Morphological Gradient 形态梯度\n",
    "就是在膨胀和腐蚀之间的操作，也就是在膨胀的图像和腐蚀的图像之间取差集，<br>\n",
    "一般的结果就是边缘位置显示，其他位置不显示（类似提取边缘，但不是）；\n",
    "\n",
    "一般做这个之前，先做一个噪声数据去除的操作。"
   ]
  },
  {
   "cell_type": "code",
   "execution_count": 20,
   "metadata": {},
   "outputs": [],
   "source": [
    "# NOTE：深度学习的特征提取都不建议人来参与，而是由模型自己决定\n",
    "\n",
    "# 加载灰度图\n",
    "# img = cv.imread(\"./images/j.png\", 0)\n",
    "img = cv.imread(\"./images/xiaoren.png\", 0)\n",
    "\n",
    "# a. 定义一个核\n",
    "kernel = np.ones((5, 5), np.uint8)\n",
    "\n",
    "# b. 形态梯度 (dilate - erode)\n",
    "dst1 = cv.morphologyEx(img, op=cv.MORPH_DILATE, kernel=kernel, iterations=1)    # 膨胀\n",
    "dst2 = cv.morphologyEx(img, op=cv.MORPH_ERODE, kernel=kernel, iterations=1)     # 腐蚀\n",
    "dst3 = cv.morphologyEx(img, op=cv.MORPH_GRADIENT, kernel=kernel, iterations=1)  # 形态梯度\n",
    "\n",
    "# c. 可视化\n",
    "cv.imshow('dst1', dst1)  # 膨胀后图像\n",
    "cv.imshow('dst2', dst2)  # 腐蚀后图像\n",
    "cv.imshow('dst3', dst3)  # 形态梯度后图像\n",
    "cv.waitKey(0)\n",
    "cv.destroyAllWindows()"
   ]
  },
  {
   "cell_type": "markdown",
   "metadata": {},
   "source": [
    "### Top Hat\n",
    "在原始图像和Open图像之间获取差集，提取一些非交叉点的信息。一般不用。"
   ]
  },
  {
   "cell_type": "code",
   "execution_count": 13,
   "metadata": {},
   "outputs": [
    {
     "data": {
      "image/png": "[encoded data removed]",
      "text/plain": [
       "<Figure size 640x480 with 3 Axes>"
      ]
     },
     "metadata": {},
     "output_type": "display_data"
    }
   ],
   "source": [
    "# 加载灰度图\n",
    "img = cv.imread(\"./images/j.png\", 0)\n",
    "\n",
    "# a. 定义一个核\n",
    "# kernel = np.ones((5, 5), np.uint8)\n",
    "kernel = np.ones((9, 9), np.uint8)  # 核变大了\n",
    "\n",
    "# b. Open（先腐蚀，再膨胀）\n",
    "dst1 = cv.morphologyEx(img, op=cv.MORPH_OPEN, kernel=kernel, iterations=1)\n",
    "\n",
    "# c. Top Hat(原始图 - open图)\n",
    "# dst2 = img - dst1\n",
    "dst2 = cv.morphologyEx(img, op=cv.MORPH_TOPHAT, kernel=kernel, iterations=1)\n",
    "\n",
    "# 可视化\n",
    "plt.subplot(131)\n",
    "plt.imshow(img, 'gray')\n",
    "plt.title('img')\n",
    "\n",
    "plt.subplot(132)\n",
    "plt.imshow(dst1, 'gray')  # Open 后图像\n",
    "plt.title('Open')\n",
    "\n",
    "plt.subplot(133)\n",
    "plt.imshow(dst2, 'gray')  # Top Hat 后图像\n",
    "plt.title('TopHat')\n",
    "plt.show()"
   ]
  },
  {
   "cell_type": "markdown",
   "metadata": {},
   "source": [
    "### Black Hat\n",
    "在原始图像和 Close 操作图像之间取差集，提取一些交叉点附近的特征信息。一般不用。"
   ]
  },
  {
   "cell_type": "code",
   "execution_count": 40,
   "metadata": {},
   "outputs": [
    {
     "data": {
      "image/png": "[encoded data removed]",
      "text/plain": [
       "<Figure size 640x480 with 3 Axes>"
      ]
     },
     "metadata": {},
     "output_type": "display_data"
    }
   ],
   "source": [
    "# 加载灰度图\n",
    "img = cv.imread(\"./images/j.png\", 0)\n",
    "\n",
    "# a. 定义一个核\n",
    "kernel = np.ones((9, 9), np.uint8)\n",
    "\n",
    "# b. Close(先膨胀，再腐蚀)\n",
    "dst1 = cv.morphologyEx(img, op=cv.MORPH_CLOSE, kernel=kernel, iterations=1)\n",
    "\n",
    "# c. Black Hat(close图 - 原始图)\n",
    "# dst2 = dst1 - img\n",
    "dst2 = cv.morphologyEx(img, op=cv.MORPH_BLACKHAT, kernel=kernel, iterations=1)\n",
    "\n",
    "# 可视化\n",
    "plt.subplot(131)\n",
    "plt.imshow(img, 'gray')\n",
    "plt.title('img')\n",
    "\n",
    "plt.subplot(132)\n",
    "plt.imshow(dst1, 'gray')  # close 后图像\n",
    "plt.title('Close')\n",
    "\n",
    "plt.subplot(133)\n",
    "plt.imshow(dst2, 'gray')  # Black Hat 后图像\n",
    "plt.title('BlackHat')\n",
    "plt.show()"
   ]
  },
  {
   "cell_type": "code",
   "execution_count": 4,
   "metadata": {},
   "outputs": [],
   "source": [
    "\"\"\"处理车牌图像\"\"\"\n",
    "\n",
    "img0 = cv.imread(\"./images/car.jpg\")         # 加载图像\n",
    "img0 = cv.cvtColor(img0, cv.COLOR_BGR2GRAY)  # 转成灰度图\n",
    "img = cv.GaussianBlur(img0, (5, 5), 0)       # 高斯模糊（0：根据 ksize 自动计算标准差）\n",
    "# img = img0  # 不做平滑，噪声点就会保留下来\n",
    "\n",
    "# a. 定义一个核\n",
    "kernel = np.ones((5, 5), np.uint8)\n",
    "\n",
    "# b. 形态梯度(dilate - erode)，显示边缘位置\n",
    "img1 = cv.morphologyEx(img, op=cv.MORPH_GRADIENT, kernel=kernel, iterations=1)\n",
    "\n",
    "# 二值化处理\n",
    "ret, img2 = cv.threshold(img1, 127, 255, cv.THRESH_BINARY)\n",
    "\n",
    "# 膨胀操作\n",
    "# 这是一个扁平的水平核，表示膨胀操作将沿着水平方向进行\n",
    "kernel = np.asarray([\n",
    "    [1, 1, 1, 1, 1, 1, 1, 1]\n",
    "])\n",
    "img3 = cv.dilate(img2, kernel, iterations=4)\n",
    "\n",
    "# 可视化\n",
    "cv.imshow('img0', img0)  # 原图\n",
    "cv.imshow('img', img)    # 高斯模糊\n",
    "cv.imshow('img1', img1)  # 形态梯度\n",
    "cv.imshow('img2', img2)  # 二值化\n",
    "cv.imshow('img3', img3)  # 膨胀后，出现矩形，以便后续提取矩形\n",
    "cv.waitKey(0)\n",
    "cv.destroyAllWindows()"
   ]
  },
  {
   "cell_type": "code",
   "execution_count": 3,
   "metadata": {},
   "outputs": [],
   "source": [
    "# NOTE：OpenCV用什么方法，要根据具体的场景、具体的问题，它的泛化能力比较差\n",
    "\n",
    "img0 = cv.imread(\"./images/car3.jpg\")        # 加载图像\n",
    "img0 = cv.cvtColor(img0, cv.COLOR_BGR2GRAY)  # 转成灰度图\n",
    "img = cv.GaussianBlur(img0, (5, 5), 0)       # 高斯模糊（0：根据 ksize 自动计算标准差）\n",
    "\n",
    "# a. 定义一个核\n",
    "kernel = np.ones((5, 5), np.uint8)\n",
    "\n",
    "# b. 形态梯度(dilate - erode)，显示边缘位置\n",
    "img1 = cv.morphologyEx(img, op=cv.MORPH_GRADIENT, kernel=kernel, iterations=1)\n",
    "\n",
    "# 二值化处理\n",
    "ret, img2 = cv.threshold(img1, 127, 255, cv.THRESH_BINARY)\n",
    "\n",
    "# 膨胀腐蚀的相关操作\n",
    "kernel = np.asarray([\n",
    "    [1, 1, 1, 1, 1, 1, 1, 1]\n",
    "])\n",
    "img3 = cv.dilate(img2, kernel, iterations=10)  # 膨胀的 kernel 可以和腐蚀的不一样\n",
    "img4 = cv.erode(img3, kernel, iterations=3)    # 腐蚀\n",
    "\n",
    "cv.imshow('img0', img0)  # 原图\n",
    "cv.imshow('img', img)    # 高斯模糊\n",
    "cv.imshow('img1', img1)  # 形态梯度\n",
    "cv.imshow('img2', img2)  # 二值化\n",
    "cv.imshow('img3', img3)  # 膨胀腐蚀后，出现矩形，以便后续提取矩形\n",
    "cv.waitKey(0)\n",
    "cv.destroyAllWindows()"
   ]
  }
 ],
 "metadata": {
  "kernelspec": {
   "display_name": "Python 3 (ipykernel)",
   "language": "python",
   "name": "python3"
  },
  "language_info": {
   "codemirror_mode": {
    "name": "ipython",
    "version": 3
   },
   "file_extension": ".py",
   "mimetype": "text/x-python",
   "name": "python",
   "nbconvert_exporter": "python",
   "pygments_lexer": "ipython3",
   "version": "3.12.7"
  }
 },
 "nbformat": 4,
 "nbformat_minor": 4
}
